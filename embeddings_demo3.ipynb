{
 "cells": [
  {
   "cell_type": "code",
   "execution_count": 3,
   "metadata": {},
   "outputs": [
    {
     "name": "stdout",
     "output_type": "stream",
     "text": [
      "Phrase: What spacecraft was used in the mission to carry the first humans to the moon?\n",
      "First 5 elements of its embedding: [ 0.02234936 -0.01276388  0.02098001 -0.01151388 -0.0080214 ]\n",
      "\n",
      "\n",
      "Detailed Similarity Results:\n",
      "\n",
      "Cosine similarity between the question and:\n",
      "  'Apollo 11 was the spacecraft used to carry the first humans to the moon.'\n",
      "  => 0.9344\n",
      "\n",
      "Cosine similarity between the question and:\n",
      "  'Apollo 12 was the spacecraft used to carry the first humans to the moon.'\n",
      "  => 0.9309\n",
      "\n",
      "Cosine similarity between the question and:\n",
      "  'Apollo 14 was the spacecraft used to carry astronauts on the third successful moon landing mission.'\n",
      "  => 0.8903\n",
      "\n",
      "Cosine similarity between the question and:\n",
      "  'Apollo 10 was the spacecraft used to carry the first humans to the moon.'\n",
      "  => 0.9284\n",
      "\n",
      "Cosine similarity between the question and:\n",
      "  'Apollo 16 was the spacecraft that carried astronauts to explore the lunar highlands.'\n",
      "  => 0.8864\n",
      "\n"
     ]
    }
   ],
   "source": [
    "from llama_index.embeddings.openai import OpenAIEmbedding\n",
    "from sklearn.metrics.pairwise import cosine_similarity\n",
    "import os\n",
    "import numpy as np\n",
    "import openai\n",
    "from dotenv import load_dotenv\n",
    "\n",
    "# Load environment variables\n",
    "load_dotenv()\n",
    "\n",
    "# Set your OpenAI API key\n",
    "openai.api_key = os.getenv(\"OPENAI_API_KEY\")\n",
    "\n",
    "# Initialize the OpenAI embedding model\n",
    "embedding_model = OpenAIEmbedding(model=\"text-embedding-ada-002\")\n",
    "\n",
    "# Define the question and answers (1 correct, 4 closely related wrong ones)\n",
    "phrases = [\n",
    "    \"What spacecraft was used in the mission to carry the first humans to the moon?\",  # Question\n",
    "    \"Apollo 11 was the spacecraft used to carry the first humans to the moon.\",       # Correct Answer\n",
    "    \"Apollo 12 was the spacecraft used to carry the first humans to the moon.\",         # Wrong Answer\n",
    "    \"Apollo 14 was the spacecraft used to carry astronauts on the third successful moon landing mission.\", # Wrong Answer\n",
    "    \"Apollo 10 was the spacecraft used to carry the first humans to the moon.\", # Wrong Answer\n",
    "    \"Apollo 16 was the spacecraft that carried astronauts to explore the lunar highlands.\"   # Wrong Answer\n",
    "]\n",
    "\n",
    "# Generate embeddings for the question and answers using OpenAI embeddings\n",
    "embeddings = embedding_model.get_text_embedding_batch(phrases)\n",
    "\n",
    "# Convert embeddings to a numpy array\n",
    "embeddings_array = np.array(embeddings)\n",
    "\n",
    "# Print the first phrase and the first several elements of its embedding\n",
    "print(f\"Phrase: {phrases[0]}\")\n",
    "print(f\"First 5 elements of its embedding: {embeddings_array[0][:5]}\\n\")\n",
    "\n",
    "# Compute cosine similarity between the embeddings\n",
    "similarity_matrix = cosine_similarity(embeddings_array)\n",
    "\n",
    "print(\"\\nDetailed Similarity Results:\\n\")\n",
    "\n",
    "# Output comparison between question and answers with improved readability\n",
    "for i in range(1, len(phrases)):\n",
    "    print(f\"Cosine similarity between the question and:\\n  '{phrases[i]}'\\n  => {similarity_matrix[0, i]:.4f}\\n\")"
   ]
  }
 ],
 "metadata": {
  "kernelspec": {
   "display_name": ".venv",
   "language": "python",
   "name": "python3"
  },
  "language_info": {
   "codemirror_mode": {
    "name": "ipython",
    "version": 3
   },
   "file_extension": ".py",
   "mimetype": "text/x-python",
   "name": "python",
   "nbconvert_exporter": "python",
   "pygments_lexer": "ipython3",
   "version": "3.12.5"
  }
 },
 "nbformat": 4,
 "nbformat_minor": 2
}
